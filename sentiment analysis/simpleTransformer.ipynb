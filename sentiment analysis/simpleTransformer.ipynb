{
  "nbformat": 4,
  "nbformat_minor": 0,
  "metadata": {
    "kernelspec": {
      "display_name": "Python 3",
      "language": "python",
      "name": "python3"
    },
    "language_info": {
      "codemirror_mode": {
        "name": "ipython",
        "version": 3
      },
      "file_extension": ".py",
      "mimetype": "text/x-python",
      "name": "python",
      "nbconvert_exporter": "python",
      "pygments_lexer": "ipython3",
      "version": "3.7.1"
    },
    "colab": {
      "name": "simpleTransformer.ipynb",
      "provenance": []
    },
    "accelerator": "GPU"
  },
  "cells": [
    {
      "cell_type": "code",
      "metadata": {
        "colab": {
          "base_uri": "https://localhost:8080/"
        },
        "id": "GtA5GH13Odno",
        "outputId": "0ea024ef-31da-43f9-a9d3-e4767fa6d97a"
      },
      "source": [
        "from google.colab import drive\n",
        "drive.mount('/content/drive')"
      ],
      "execution_count": 1,
      "outputs": [
        {
          "output_type": "stream",
          "text": [
            "Mounted at /content/drive\n"
          ],
          "name": "stdout"
        }
      ]
    },
    {
      "cell_type": "code",
      "metadata": {
        "id": "PPS8tPk-OTzJ"
      },
      "source": [
        "import os\n",
        "import pandas as pd\n",
        "import numpy as np\n",
        "import spacy\n",
        "import string\n",
        "import matplotlib.pyplot as plt\n",
        "import seaborn as sns\n",
        "import collections\n",
        "from IPython.display import HTML, IFrame\n",
        "from textblob import TextBlob\n",
        "from wordcloud import WordCloud\n",
        "from tqdm import tqdm_notebook\n",
        "from torchtext import data\n",
        "import torch"
      ],
      "execution_count": 2,
      "outputs": []
    },
    {
      "cell_type": "code",
      "metadata": {
        "colab": {
          "base_uri": "https://localhost:8080/"
        },
        "id": "i0LeRDejOTzP",
        "outputId": "0baa36e0-ed2b-4f9f-ffb2-921e73622438"
      },
      "source": [
        "# tokenizer = lambda x: str(x).translate(str.maketrans('', '', string.punctuation)).strip().split()\n",
        "\n",
        "# Step one defination of our fields. \n",
        "TEXT = data.Field(sequential=True, lower=True, tokenize='spacy',fix_length=250)\n",
        "LABEL = data.Field(sequential=False, use_vocab=False)\n",
        "\n",
        "print(\"loading from csv ...\")\n",
        "tv_datafields = [(\"review\", TEXT), (\"label\", LABEL)]\n",
        "\n",
        "# Step two construction our dataset.\n",
        "train, valid, test = data.TabularDataset.splits(path='/content/drive/MyDrive/SENTIMENT',\n",
        "                                                train=\"train.csv\", validation=\"valid.csv\",\n",
        "                                                test=\"test_dataset.csv\", format=\"csv\",\n",
        "                                                skip_header=True, fields=tv_datafields)\n",
        "print(train[0].__dict__.keys())"
      ],
      "execution_count": 3,
      "outputs": [
        {
          "output_type": "stream",
          "text": [
            "loading from csv ...\n",
            "dict_keys(['review', 'label'])\n"
          ],
          "name": "stdout"
        }
      ]
    },
    {
      "cell_type": "code",
      "metadata": {
        "colab": {
          "base_uri": "https://localhost:8080/"
        },
        "id": "Gzd015JwOTzT",
        "outputId": "5cf1b526-5adc-4fad-b791-e8cd7572ccc5"
      },
      "source": [
        "MAX_VOCAB_SIZE = 25_000\n",
        "TEXT.build_vocab(train, max_size = MAX_VOCAB_SIZE)\n",
        "LABEL.build_vocab(train)\n",
        "print(\"build vocab success...\")\n",
        "device = torch.device(\"cuda\" if torch.cuda.is_available() else \"cpu\")"
      ],
      "execution_count": 4,
      "outputs": [
        {
          "output_type": "stream",
          "text": [
            "build vocab success...\n"
          ],
          "name": "stdout"
        }
      ]
    },
    {
      "cell_type": "code",
      "metadata": {
        "colab": {
          "base_uri": "https://localhost:8080/"
        },
        "id": "C9dw4vi-OTzV",
        "outputId": "188be610-4471-4c13-fdaa-7b75660ca652"
      },
      "source": [
        "print(len(TEXT.vocab))\n",
        "# most common words and their frequencies.\n",
        "print(TEXT.vocab.freqs.most_common(20))\n",
        "\n",
        "# top ten index to words transform.\n",
        "print(TEXT.vocab.itos[:10])"
      ],
      "execution_count": 5,
      "outputs": [
        {
          "output_type": "stream",
          "text": [
            "25002\n",
            "[('the', 229888), (',', 191498), ('.', 165465), ('and', 113644), ('a', 112867), ('of', 101635), ('to', 94665), ('is', 76637), ('it', 65408), ('in', 64967), ('i', 58068), ('this', 51308), ('that', 51082), ('\"', 44013), (\"'s\", 43406), ('-', 36944), ('/><br', 35620), ('was', 35166), ('as', 32146), ('for', 30732)]\n",
            "['<unk>', '<pad>', 'the', ',', '.', 'and', 'a', 'of', 'to', 'is']\n"
          ],
          "name": "stdout"
        }
      ]
    },
    {
      "cell_type": "code",
      "metadata": {
        "colab": {
          "base_uri": "https://localhost:8080/"
        },
        "id": "UNfdAMIuOTzW",
        "outputId": "9e16e4bf-be19-4fdb-beae-6bdcffd0efcc"
      },
      "source": [
        "# Step four construct our iterator to our dataset. \n",
        "\n",
        "print(\"construct iterator success...\")\n",
        "train_iter , valid_iter , test_iter = data.BucketIterator.splits((train,valid,test), device=device, \n",
        "                                                 batch_sizes=(32,32,32), sort_key=lambda x: len(x.review),\n",
        "                                                 sort_within_batch=True, repeat=False)"
      ],
      "execution_count": 6,
      "outputs": [
        {
          "output_type": "stream",
          "text": [
            "construct iterator success...\n"
          ],
          "name": "stdout"
        }
      ]
    },
    {
      "cell_type": "code",
      "metadata": {
        "id": "MigrnXTxOTzY"
      },
      "source": [
        "from torch import nn\n",
        "import torch.nn.functional as F\n",
        "class DefaultTransformer(nn.Module):\n",
        "    def __init__(self, input_dim, emb_dim, n_heads, hid_dim, n_layers, output_dim, dropout, max_length, pad_idx):\n",
        "        super().__init__()\n",
        "\n",
        "        self.tok_embedding = nn.Embedding(input_dim, emb_dim, padding_idx = pad_idx)\n",
        "        self.pos_embedding = nn.Embedding(max_length, emb_dim)\n",
        "        self.layer_norm = nn.LayerNorm(emb_dim)\n",
        "        transformer_layer = nn.TransformerEncoderLayer(emb_dim, n_heads, hid_dim, activation = 'gelu')\n",
        "        norm = nn.LayerNorm(emb_dim)\n",
        "        self.transformer = nn.TransformerEncoder(transformer_layer, n_layers, norm)\n",
        "        self.fc = nn.Linear(emb_dim, output_dim)\n",
        "        self.dropout = nn.Dropout(dropout)\n",
        "\n",
        "    def forward(self, text):\n",
        "\n",
        "        # text = [seq len, batch size]\n",
        "\n",
        "        seq_len, batch_size = text.shape\n",
        "        \n",
        "        pos = torch.arange(0, seq_len).unsqueeze(-1).repeat(1, batch_size).to(device)\n",
        "        \n",
        "        # pos = [seq len, batch size]\n",
        "        \n",
        "        embedded_pos = self.pos_embedding(pos)\n",
        "#         embedded_pos = nn.Embedding(seq_len, emb_dim)(pos)\n",
        "        embedded_tok = self.tok_embedding(text)\n",
        "        \n",
        "        embedded = self.dropout(embedded_pos + embedded_tok)\n",
        "\n",
        "        # embedded = [seq len, batch size, emb dim]\n",
        "\n",
        "        emedded = self.layer_norm(embedded)\n",
        "        \n",
        "        # embedded = [seq len, batch size, emb dim]\n",
        "        \n",
        "        transformed = self.transformer(embedded)\n",
        "\n",
        "        # transformed = [seq len, batch size, emb dim]\n",
        "\n",
        "        sos_transformed = transformed[0]\n",
        "\n",
        "        # sos_transformed = [batch size, emb dim]\n",
        "\n",
        "        prediction = self.fc(self.dropout(sos_transformed))\n",
        "\n",
        "        # prediction = [batch size, output dim]\n",
        "\n",
        "        return prediction"
      ],
      "execution_count": 7,
      "outputs": []
    },
    {
      "cell_type": "code",
      "metadata": {
        "id": "lgf3B1_AOTza"
      },
      "source": [
        "for batch in train_iter:\n",
        "    text = batch.review\n",
        "    seq_len, batch_size = text.shape\n",
        "    pos = torch.arange(0, seq_len).unsqueeze(-1).repeat(1, batch_size).to(device)\n",
        "    print(text.shape)\n",
        "    nn.Embedding(5000, 100)(pos)"
      ],
      "execution_count": null,
      "outputs": []
    },
    {
      "cell_type": "code",
      "metadata": {
        "id": "UJYfeIF3OTzi"
      },
      "source": [
        "from torch.functional import F\n",
        "input_dim = len(TEXT.vocab)\n",
        "emb_dim = 100\n",
        "n_heads = 10\n",
        "hid_dim = 1024\n",
        "n_layers = 3\n",
        "output_dim = 2\n",
        "dropout = 0.1\n",
        "pad_idx = TEXT.vocab.stoi[TEXT.pad_token]\n",
        "ff_layer_activation = F.gelu\n",
        "max_length = 250\n",
        "\n",
        "# encoder_norm = nn.LayerNorm(emb_dim)\n",
        "\n",
        "\n",
        "model = DefaultTransformer(input_dim, emb_dim, n_heads,hid_dim, n_layers, output_dim, dropout, max_length, pad_idx)"
      ],
      "execution_count": 8,
      "outputs": []
    },
    {
      "cell_type": "code",
      "metadata": {
        "colab": {
          "base_uri": "https://localhost:8080/"
        },
        "id": "J7R7YxEaOTzj",
        "outputId": "0b977d1a-81d1-49d2-d7be-d713b00bd433"
      },
      "source": [
        "def count_parameters(model):\n",
        "    return sum(p.numel() for p in model.parameters() if p.requires_grad)\n",
        "print(f'The model has {count_parameters(model):,} trainable parameters')"
      ],
      "execution_count": 9,
      "outputs": [
        {
          "output_type": "stream",
          "text": [
            "The model has 3,265,974 trainable parameters\n"
          ],
          "name": "stdout"
        }
      ]
    },
    {
      "cell_type": "code",
      "metadata": {
        "id": "dXNPhFyLOTzl"
      },
      "source": [
        "def initialize_parameters(m):\n",
        "    if isinstance(m, nn.Embedding):\n",
        "        nn.init.normal_(m.weight, std = 0.02)\n",
        "    elif isinstance(m, nn.Linear):\n",
        "        nn.init.normal_(m.weight, std = 0.02)\n",
        "        nn.init.zeros_(m.bias)\n",
        "    elif isinstance(m, nn.LayerNorm):\n",
        "        nn.init.ones_(m.weight)\n",
        "        nn.init.zeros_(m.bias)"
      ],
      "execution_count": 10,
      "outputs": []
    },
    {
      "cell_type": "code",
      "metadata": {
        "scrolled": true,
        "colab": {
          "base_uri": "https://localhost:8080/"
        },
        "id": "C_-kioB1OTzm",
        "outputId": "5f012da2-d7ad-4af9-abf5-6aa848671d21"
      },
      "source": [
        "model.apply(initialize_parameters)"
      ],
      "execution_count": 11,
      "outputs": [
        {
          "output_type": "execute_result",
          "data": {
            "text/plain": [
              "DefaultTransformer(\n",
              "  (tok_embedding): Embedding(25002, 100, padding_idx=1)\n",
              "  (pos_embedding): Embedding(250, 100)\n",
              "  (layer_norm): LayerNorm((100,), eps=1e-05, elementwise_affine=True)\n",
              "  (transformer): TransformerEncoder(\n",
              "    (layers): ModuleList(\n",
              "      (0): TransformerEncoderLayer(\n",
              "        (self_attn): MultiheadAttention(\n",
              "          (out_proj): _LinearWithBias(in_features=100, out_features=100, bias=True)\n",
              "        )\n",
              "        (linear1): Linear(in_features=100, out_features=1024, bias=True)\n",
              "        (dropout): Dropout(p=0.1, inplace=False)\n",
              "        (linear2): Linear(in_features=1024, out_features=100, bias=True)\n",
              "        (norm1): LayerNorm((100,), eps=1e-05, elementwise_affine=True)\n",
              "        (norm2): LayerNorm((100,), eps=1e-05, elementwise_affine=True)\n",
              "        (dropout1): Dropout(p=0.1, inplace=False)\n",
              "        (dropout2): Dropout(p=0.1, inplace=False)\n",
              "      )\n",
              "      (1): TransformerEncoderLayer(\n",
              "        (self_attn): MultiheadAttention(\n",
              "          (out_proj): _LinearWithBias(in_features=100, out_features=100, bias=True)\n",
              "        )\n",
              "        (linear1): Linear(in_features=100, out_features=1024, bias=True)\n",
              "        (dropout): Dropout(p=0.1, inplace=False)\n",
              "        (linear2): Linear(in_features=1024, out_features=100, bias=True)\n",
              "        (norm1): LayerNorm((100,), eps=1e-05, elementwise_affine=True)\n",
              "        (norm2): LayerNorm((100,), eps=1e-05, elementwise_affine=True)\n",
              "        (dropout1): Dropout(p=0.1, inplace=False)\n",
              "        (dropout2): Dropout(p=0.1, inplace=False)\n",
              "      )\n",
              "      (2): TransformerEncoderLayer(\n",
              "        (self_attn): MultiheadAttention(\n",
              "          (out_proj): _LinearWithBias(in_features=100, out_features=100, bias=True)\n",
              "        )\n",
              "        (linear1): Linear(in_features=100, out_features=1024, bias=True)\n",
              "        (dropout): Dropout(p=0.1, inplace=False)\n",
              "        (linear2): Linear(in_features=1024, out_features=100, bias=True)\n",
              "        (norm1): LayerNorm((100,), eps=1e-05, elementwise_affine=True)\n",
              "        (norm2): LayerNorm((100,), eps=1e-05, elementwise_affine=True)\n",
              "        (dropout1): Dropout(p=0.1, inplace=False)\n",
              "        (dropout2): Dropout(p=0.1, inplace=False)\n",
              "      )\n",
              "    )\n",
              "    (norm): LayerNorm((100,), eps=1e-05, elementwise_affine=True)\n",
              "  )\n",
              "  (fc): Linear(in_features=100, out_features=2, bias=True)\n",
              "  (dropout): Dropout(p=0.1, inplace=False)\n",
              ")"
            ]
          },
          "metadata": {
            "tags": []
          },
          "execution_count": 11
        }
      ]
    },
    {
      "cell_type": "code",
      "metadata": {
        "id": "8wpi1LjJOTzo"
      },
      "source": [
        "from torch import optim\n",
        "optimizer = optim.Adam(model.parameters(),lr=0.0001)\n",
        "criterion = nn.CrossEntropyLoss()\n",
        "device = torch.device('cuda' if torch.cuda.is_available() else 'cpu')\n",
        "model = model.to(device)\n",
        "criterion = criterion.to(device)\n",
        "def calculate_accuracy(predictions, labels):\n",
        "    top_predictions = predictions.argmax(1, keepdim = True)\n",
        "    correct = top_predictions.eq(labels.view_as(top_predictions)).sum()\n",
        "    accuracy = correct.float() / labels.shape[0]\n",
        "    return accuracy"
      ],
      "execution_count": 17,
      "outputs": []
    },
    {
      "cell_type": "code",
      "metadata": {
        "id": "5eb_YvZFOTzp"
      },
      "source": [
        "def train(model, iterator, optimizer, criterion, device):\n",
        "    \n",
        "    epoch_loss = 0\n",
        "    epoch_acc = 0\n",
        "    \n",
        "    model.train()\n",
        "    \n",
        "    for batch in iterator:\n",
        "\n",
        "#         labels = labels.to(device)\n",
        "#         text = text.to(device)\n",
        "\n",
        "        optimizer.zero_grad()\n",
        "        \n",
        "        predictions = model(batch.review)\n",
        "        \n",
        "        loss = criterion(predictions, batch.label)\n",
        "        \n",
        "        acc = calculate_accuracy(predictions, batch.label)\n",
        "        \n",
        "        loss.backward()\n",
        "        \n",
        "        optimizer.step()\n",
        "        \n",
        "        epoch_loss += loss.item()\n",
        "        epoch_acc += acc.item()\n",
        "\n",
        "    return epoch_loss / len(iterator), epoch_acc / len(iterator)"
      ],
      "execution_count": 18,
      "outputs": []
    },
    {
      "cell_type": "code",
      "metadata": {
        "id": "Egkt2LtxOTzq"
      },
      "source": [
        "def evaluate(model, iterator, criterion, device):\n",
        "    \n",
        "    epoch_loss = 0\n",
        "    epoch_acc = 0\n",
        "    \n",
        "    model.eval()\n",
        "    \n",
        "    with torch.no_grad():\n",
        "    \n",
        "        for batch in iterator:\n",
        "\n",
        "#             labels = labels.to(device)\n",
        "#             text = text.to(device)\n",
        "            \n",
        "            predictions = model(batch.review)\n",
        "            \n",
        "            loss = criterion(predictions, batch.label)\n",
        "            \n",
        "            acc = calculate_accuracy(predictions, batch.label)\n",
        "\n",
        "            epoch_loss += loss.item()\n",
        "            epoch_acc += acc.item()\n",
        "        \n",
        "    return epoch_loss / len(iterator), epoch_acc / len(iterator)"
      ],
      "execution_count": 19,
      "outputs": []
    },
    {
      "cell_type": "code",
      "metadata": {
        "id": "gnS54PW7OTzt"
      },
      "source": [
        "def epoch_time(start_time, end_time):\n",
        "    elapsed_time = end_time - start_time\n",
        "    elapsed_mins = int(elapsed_time / 60)\n",
        "    elapsed_secs = int(elapsed_time - (elapsed_mins * 60))\n",
        "    return elapsed_mins, elapsed_secs"
      ],
      "execution_count": 20,
      "outputs": []
    },
    {
      "cell_type": "code",
      "metadata": {
        "colab": {
          "base_uri": "https://localhost:8080/"
        },
        "id": "GPOIHC3rOTzu",
        "outputId": "f48fc47c-2003-404a-c148-fdb11666e034"
      },
      "source": [
        "n_epochs = 10\n",
        "import time\n",
        "best_valid_loss = float('inf')\n",
        "\n",
        "for epoch in range(n_epochs):\n",
        "\n",
        "    start_time = time.monotonic()\n",
        "    \n",
        "    train_loss, train_acc = train(model, train_iter, optimizer, criterion,device)\n",
        "    valid_loss, valid_acc = evaluate(model, valid_iter, criterion,device)\n",
        "    \n",
        "    end_time = time.monotonic()\n",
        "\n",
        "    epoch_mins, epoch_secs = epoch_time(start_time, end_time)\n",
        "    \n",
        "    if valid_loss < best_valid_loss:\n",
        "        best_valid_loss = valid_loss\n",
        "        torch.save(model.state_dict(), 'transformer-model.pt')\n",
        "    \n",
        "    print(f'Epoch: {epoch+1:02} | Epoch Time: {epoch_mins}m {epoch_secs}s')\n",
        "    print(f'\\tTrain Loss: {train_loss:.3f} | Train Acc: {train_acc*100:.2f}%')\n",
        "    print(f'\\t Val. Loss: {valid_loss:.3f} |  Val. Acc: {valid_acc*100:.2f}%')"
      ],
      "execution_count": 21,
      "outputs": [
        {
          "output_type": "stream",
          "text": [
            "Epoch: 01 | Epoch Time: 0m 38s\n",
            "\tTrain Loss: 0.468 | Train Acc: 81.10%\n",
            "\t Val. Loss: 0.580 |  Val. Acc: 76.85%\n",
            "Epoch: 02 | Epoch Time: 0m 38s\n",
            "\tTrain Loss: 0.392 | Train Acc: 84.67%\n",
            "\t Val. Loss: 0.574 |  Val. Acc: 78.16%\n",
            "Epoch: 03 | Epoch Time: 0m 38s\n",
            "\tTrain Loss: 0.346 | Train Acc: 86.13%\n",
            "\t Val. Loss: 0.518 |  Val. Acc: 78.75%\n",
            "Epoch: 04 | Epoch Time: 0m 38s\n",
            "\tTrain Loss: 0.271 | Train Acc: 89.48%\n",
            "\t Val. Loss: 0.483 |  Val. Acc: 81.20%\n",
            "Epoch: 05 | Epoch Time: 0m 38s\n",
            "\tTrain Loss: 0.232 | Train Acc: 91.07%\n",
            "\t Val. Loss: 0.466 |  Val. Acc: 80.90%\n",
            "Epoch: 06 | Epoch Time: 0m 38s\n",
            "\tTrain Loss: 0.225 | Train Acc: 91.49%\n",
            "\t Val. Loss: 0.450 |  Val. Acc: 81.94%\n",
            "Epoch: 07 | Epoch Time: 0m 38s\n",
            "\tTrain Loss: 0.215 | Train Acc: 91.98%\n",
            "\t Val. Loss: 0.450 |  Val. Acc: 83.01%\n",
            "Epoch: 08 | Epoch Time: 0m 38s\n",
            "\tTrain Loss: 0.207 | Train Acc: 92.24%\n",
            "\t Val. Loss: 0.438 |  Val. Acc: 83.48%\n",
            "Epoch: 10 | Epoch Time: 0m 38s\n",
            "\tTrain Loss: 0.200 | Train Acc: 92.70%\n",
            "\t Val. Loss: 0.449 |  Val. Acc: 83.39%\n"
          ],
          "name": "stdout"
        }
      ]
    },
    {
      "cell_type": "code",
      "metadata": {
        "id": "TnhrIDCeOTzx"
      },
      "source": [
        ""
      ],
      "execution_count": 21,
      "outputs": []
    }
  ]
}